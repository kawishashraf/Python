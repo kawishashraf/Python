{
 "cells": [
  {
   "cell_type": "markdown",
   "id": "8c74aa9c",
   "metadata": {},
   "source": [
    "# Apply 45 strong class method or card variable"
   ]
  },
  {
   "cell_type": "code",
   "execution_count": 1,
   "id": "f5ed204e",
   "metadata": {
    "tags": []
   },
   "outputs": [
    {
     "name": "stdout",
     "output_type": "stream",
     "text": [
      "Institute Name: Saylani Mass IT Training Program \n",
      "Student Full Name: Kawish Ashraf \n",
      "Course Name: A.I Batch-4 \n",
      "Roll number: 119314\n"
     ]
    }
   ],
   "source": [
    "# Concatination Method with **+**:\n",
    "\n",
    "first_name = \"Kawish\"\n",
    "last_name = \"Ashraf\"\n",
    "ins_name = \"Saylani Mass IT Training Program\"\n",
    "course_name = \"A.I Batch-4\"\n",
    "roll_num = 119314\n",
    "print(\"Institute Name: \" + ins_name, \"\\nStudent Full Name: \" + first_name +' '+ last_name, \"\\nCourse Name: \" + course_name, \"\\nRoll number: \"+str(roll_num))"
   ]
  },
  {
   "cell_type": "code",
   "execution_count": 2,
   "id": "a5dcdda0",
   "metadata": {
    "tags": []
   },
   "outputs": [
    {
     "name": "stdout",
     "output_type": "stream",
     "text": [
      "Institude Name: Saylani Mass IT Training Program\n",
      "Student Full Name: Kawish Ashraf\n",
      "course Name: A.I Batch-4\n",
      "Roll Number: 119314\n"
     ]
    }
   ],
   "source": [
    "# Concatination Method with **.format method**:\n",
    "\n",
    "first_name = \"Kawish\"\n",
    "last_name = \"Ashraf\"\n",
    "ins_name = \"Saylani Mass IT Training Program\"\n",
    "course_name = \"A.I Batch-4\"\n",
    "roll_num = 119314\n",
    "\n",
    "card = '''Institude Name: {}\n",
    "Student Full Name: {} {}\n",
    "course Name: {}\n",
    "Roll Number: {}'''.format(ins_name,first_name,last_name,course_name,roll_num)\n",
    "\n",
    "print(card)"
   ]
  },
  {
   "cell_type": "code",
   "execution_count": 3,
   "id": "e515194e",
   "metadata": {
    "tags": []
   },
   "outputs": [
    {
     "name": "stdout",
     "output_type": "stream",
     "text": [
      "Pakistan zindabad\n"
     ]
    }
   ],
   "source": [
    "# 1-capitalize Method\n",
    "# The method returns a new string with the first character capitalized.\n",
    "\n",
    "name = \"pakistan zindabad\"\n",
    "print(name.capitalize())"
   ]
  },
  {
   "cell_type": "code",
   "execution_count": 9,
   "id": "8b20f129",
   "metadata": {
    "tags": []
   },
   "outputs": [
    {
     "name": "stdout",
     "output_type": "stream",
     "text": [
      "pakistan zindabad\n"
     ]
    }
   ],
   "source": [
    "# 2-CaseFold Method\n",
    "# The method returns a new string with all the alphabetic characters converted to lowercase.\n",
    "\n",
    "name = \"PAKISTAN ZINDABAD\"\n",
    "print(name.casefold())"
   ]
  },
  {
   "cell_type": "code",
   "execution_count": 10,
   "id": "27175764",
   "metadata": {
    "tags": []
   },
   "outputs": [
    {
     "name": "stdout",
     "output_type": "stream",
     "text": [
      "                                         Pakistan zindabad                                          \n"
     ]
    }
   ],
   "source": [
    "# 3-Center Method\n",
    "# method returns a new string with the original string centered within the specified width\n",
    "\n",
    "name = \"Pakistan zindabad\"\n",
    "print(name.center(100))"
   ]
  },
  {
   "cell_type": "code",
   "execution_count": 11,
   "id": "48b9fc39",
   "metadata": {
    "tags": []
   },
   "outputs": [
    {
     "name": "stdout",
     "output_type": "stream",
     "text": [
      "4\n"
     ]
    }
   ],
   "source": [
    "# 4-Count Method\n",
    "# returns the number of occurrences of the specified substring or character.\n",
    "\n",
    "name = \"Pakistan zindabad\"\n",
    "print(name.count('a'))"
   ]
  },
  {
   "cell_type": "code",
   "execution_count": 6,
   "id": "b3b63109",
   "metadata": {
    "tags": []
   },
   "outputs": [
    {
     "name": "stdout",
     "output_type": "stream",
     "text": [
      "b'My name is Kawish'\n"
     ]
    }
   ],
   "source": [
    "# 5-encode method\n",
    "# returns an encoded version of the original string.\n",
    "\n",
    "name = \"My name is Kawish\"\n",
    "print(name.encode())"
   ]
  },
  {
   "cell_type": "code",
   "execution_count": 8,
   "id": "b9d1e3ee",
   "metadata": {
    "tags": []
   },
   "outputs": [
    {
     "name": "stdout",
     "output_type": "stream",
     "text": [
      "True\n",
      "True\n"
     ]
    }
   ],
   "source": [
    "# 5-endswith method\n",
    "# returns a boolean value indicating whether the string ends with a specified suffix or not.\n",
    "\n",
    "name = \"nPakistan zindabad\"\n",
    "print(name.startswith('n'))\n",
    "print(name.endswith('d'))"
   ]
  },
  {
   "cell_type": "code",
   "execution_count": null,
   "id": "48bb9b27",
   "metadata": {},
   "outputs": [],
   "source": []
  },
  {
   "cell_type": "code",
   "execution_count": 9,
   "id": "dee776b8",
   "metadata": {
    "tags": []
   },
   "outputs": [
    {
     "name": "stdout",
     "output_type": "stream",
     "text": [
      "True\n",
      "False\n"
     ]
    }
   ],
   "source": [
    "# 10-isalnum Method\n",
    "# used to check whether a string contains only alphanumeric characters or not.\n",
    "\n",
    "name1 = \"Pakistan123\"\n",
    "name2 = \"Pakistan!!123\"\n",
    "print(name1.isalnum())\n",
    "print(name2.isalnum())    "
   ]
  },
  {
   "cell_type": "code",
   "execution_count": 14,
   "id": "72d0577b",
   "metadata": {
    "tags": []
   },
   "outputs": [
    {
     "name": "stdout",
     "output_type": "stream",
     "text": [
      "Pakistan        zindabad\n"
     ]
    }
   ],
   "source": [
    "# 6-expandtabs\n",
    "# returns a copy of the string with all tab characters (\\t) replaced by one or more spaces.\n",
    "\n",
    "name = \"Pakistan\\tzindabad\"\n",
    "print(name.expandtabs(8))"
   ]
  },
  {
   "cell_type": "code",
   "execution_count": 17,
   "id": "654d485f",
   "metadata": {
    "tags": []
   },
   "outputs": [
    {
     "name": "stdout",
     "output_type": "stream",
     "text": [
      "5\n",
      "9\n",
      "-1\n"
     ]
    },
    {
     "data": {
      "text/plain": [
       "5"
      ]
     },
     "execution_count": 17,
     "metadata": {},
     "output_type": "execute_result"
    }
   ],
   "source": [
    "# 7-Find method\n",
    "# returns the lowest index in the string where a specified substring is found.\n",
    "\n",
    "name = \"Pakistan zindabad\"\n",
    "print(name.find(\"t\"))      # Returns value of t at specified index\n",
    "print(name.find(\"zin\"))    # Returns value of \"z\" only at specified index\n",
    "print(name.find(\"x\"))      # Returns No value with \"-1\" as \"x\" is not found in above string\n",
    "5"
   ]
  },
  {
   "cell_type": "code",
   "execution_count": 19,
   "id": "8da38716",
   "metadata": {
    "tags": []
   },
   "outputs": [
    {
     "name": "stdout",
     "output_type": "stream",
     "text": [
      "True\n",
      "False\n"
     ]
    }
   ],
   "source": [
    "# 10-isalnum Method\n",
    "# used to check whether a string contains only alphanumeric characters or not.\n",
    "\n",
    "name1 = \"Pakistan123\"\n",
    "name2 = \"Pakistan!!123\"\n",
    "print(name1.isalnum())\n",
    "print(name2.isalnum())       # It returns false due to non-alphanumeric charachter \"!\""
   ]
  },
  {
   "cell_type": "code",
   "execution_count": 20,
   "id": "ab22f837",
   "metadata": {
    "tags": []
   },
   "outputs": [
    {
     "name": "stdout",
     "output_type": "stream",
     "text": [
      "True\n",
      "False\n"
     ]
    }
   ],
   "source": [
    "# 12-isascii Method\n",
    "# used to check whether a string contains only ASCII characters or not.\n",
    "\n",
    "name1 = \"Pakistan\"\n",
    "name2 = \"¡Hello¡\"\n",
    "print(name1.isascii())\n",
    "print(name2.isascii())"
   ]
  },
  {
   "cell_type": "code",
   "execution_count": 21,
   "id": "cf96683b",
   "metadata": {
    "tags": []
   },
   "outputs": [
    {
     "name": "stdout",
     "output_type": "stream",
     "text": [
      "True\n",
      "False\n"
     ]
    }
   ],
   "source": [
    "# 13-isdecimal Method\n",
    "# used to check whether a string contains only decimal characters or not\n",
    "\n",
    "num1 = \"1234\"\n",
    "num2 = \"12.345\"\n",
    "print(num1.isdecimal())\n",
    "print(num2.isdecimal())"
   ]
  },
  {
   "cell_type": "code",
   "execution_count": 22,
   "id": "5521413c",
   "metadata": {
    "tags": []
   },
   "outputs": [
    {
     "name": "stdout",
     "output_type": "stream",
     "text": [
      "True\n",
      "False\n"
     ]
    }
   ],
   "source": [
    "# 14-isdigit Method\n",
    "# used to check whether a string contains only digits or not.\n",
    "\n",
    "num1 = \"1234\"\n",
    "num2 = \"12.345\"\n",
    "print(num1.isdigit())\n",
    "print(num2.isdigit())"
   ]
  },
  {
   "cell_type": "code",
   "execution_count": 23,
   "id": "48cb5272",
   "metadata": {
    "tags": []
   },
   "outputs": [
    {
     "name": "stdout",
     "output_type": "stream",
     "text": [
      "True\n",
      "False\n"
     ]
    }
   ],
   "source": [
    "# 15-isidentifier\n",
    "# used to check whether a string is a valid identifier or not.\n",
    "# An identifier is a sequence of characters in Python that represents a name, such as variable names, function names, class names, etc. \n",
    "# An identifier must follow certain rules, such as starting with a letter or underscore, and only containing letters, numbers, and underscores.\n",
    "\n",
    "name1 = \"my_var\"\n",
    "name2 = \"1myvar\"\n",
    "print(name1.isidentifier())\n",
    "print(name2.isidentifier())"
   ]
  },
  {
   "cell_type": "code",
   "execution_count": 16,
   "id": "e9008aa2",
   "metadata": {
    "tags": []
   },
   "outputs": [
    {
     "name": "stdout",
     "output_type": "stream",
     "text": [
      "False\n",
      "True\n"
     ]
    }
   ],
   "source": [
    "# 16-islower Method\n",
    "# used to check whether all the characters in a string are lowercase or not.\n",
    "\n",
    "name1 = \"KaWisH\"\n",
    "name2 = \"ashraf\"\n",
    "print(name1.islower())\n",
    "print(name2.islower())"
   ]
  },
  {
   "cell_type": "code",
   "execution_count": 17,
   "id": "dc34a17c",
   "metadata": {
    "tags": []
   },
   "outputs": [
    {
     "name": "stdout",
     "output_type": "stream",
     "text": [
      "I am from Sweden\n",
      "I am from India\n",
      "I am from Pakistan\n",
      "I am from Brazil\n"
     ]
    }
   ],
   "source": [
    "def my_function(country = \"Pakistan\"):\n",
    "  print(\"I am from \" + country)\n",
    "\n",
    "my_function(\"Sweden\")\n",
    "my_function(\"India\")\n",
    "my_function()\n",
    "my_function(\"Brazil\")"
   ]
  },
  {
   "cell_type": "code",
   "execution_count": 27,
   "id": "629d0084",
   "metadata": {
    "tags": []
   },
   "outputs": [
    {
     "name": "stdout",
     "output_type": "stream",
     "text": [
      "True\n",
      "False\n"
     ]
    }
   ],
   "source": [
    "# 17-isnumeric\n",
    "# used to check whether all the characters in a string are numeric characters or not.\n",
    "\n",
    "num1 = \"1234\"\n",
    "num2 = \"12.345\"\n",
    "\n",
    "print(num1.isnumeric())\n",
    "print(num2.isnumeric())"
   ]
  },
  {
   "cell_type": "code",
   "execution_count": 18,
   "id": "2c4bd403",
   "metadata": {
    "tags": []
   },
   "outputs": [
    {
     "name": "stdout",
     "output_type": "stream",
     "text": [
      "\n",
      "\n",
      "Recursion Example Results\n",
      "1\n",
      "3\n",
      "6\n",
      "10\n",
      "15\n",
      "21\n"
     ]
    },
    {
     "data": {
      "text/plain": [
       "21"
      ]
     },
     "execution_count": 18,
     "metadata": {},
     "output_type": "execute_result"
    }
   ],
   "source": [
    "# Recursion is a common mathematical and programming concept. It means that a function calls itself. This has the benefit of meaning that you can loop through data to reach a result.\n",
    "# In this example, tri_recursion() is a function that we have defined to call itself (\"recurse\"). We use the k variable as the data, which decrements (-1) every time we recurse. The recursion ends when the condition is not greater than 0 (i.e. when it is 0).\n",
    "def tri_recursion(k):\n",
    "  if(k > 0):\n",
    "    result = k + tri_recursion(k - 1)\n",
    "    print(result)\n",
    "  else:\n",
    "    result = 0\n",
    "  return result\n",
    "\n",
    "print(\"\\n\\nRecursion Example Results\")\n",
    "tri_recursion(6)"
   ]
  },
  {
   "cell_type": "code",
   "execution_count": 19,
   "id": "7ce0d48a",
   "metadata": {
    "tags": []
   },
   "outputs": [
    {
     "name": "stdout",
     "output_type": "stream",
     "text": [
      "True\n",
      "False\n"
     ]
    }
   ],
   "source": [
    "# 18-isprintable Method\n",
    "# used to check whether all the characters in a string are printable or not.\n",
    "\n",
    "n = \"Hellow World\"\n",
    "m = \"Hellow \\n World\"\n",
    "print(n.isprintable())\n",
    "print(m.isprintable())"
   ]
  },
  {
   "cell_type": "code",
   "execution_count": 30,
   "id": "5d1b5b28",
   "metadata": {
    "tags": []
   },
   "outputs": [
    {
     "name": "stdout",
     "output_type": "stream",
     "text": [
      "False\n",
      "True\n",
      "False\n"
     ]
    }
   ],
   "source": [
    "# 19-isspace Method\n",
    "# used to check whether all the characters in a string are whitespace characters or not.\n",
    "\n",
    "n = \"Hellow World\"\n",
    "m = \"\\t\\n\"\n",
    "p = \"\"\n",
    "\n",
    "print(n.isspace())\n",
    "print(m.isspace())\n",
    "print(p.isspace())"
   ]
  },
  {
   "cell_type": "code",
   "execution_count": 31,
   "id": "0eb85e09",
   "metadata": {
    "tags": []
   },
   "outputs": [
    {
     "name": "stdout",
     "output_type": "stream",
     "text": [
      "True\n",
      "False\n"
     ]
    }
   ],
   "source": [
    "# 20-istitle Method\n",
    "# used to check whether a string is a titlecased string or not.\n",
    "# A titlecased string is a string where the first letter of each word is capitalized and all other letters are lowercase.\n",
    "\n",
    "n = \"The Pakistan\"\n",
    "m = \"the pakistan\"\n",
    "\n",
    "print(n.istitle())\n",
    "print(m.istitle())"
   ]
  },
  {
   "cell_type": "code",
   "execution_count": 32,
   "id": "da9b83be",
   "metadata": {
    "tags": []
   },
   "outputs": [
    {
     "name": "stdout",
     "output_type": "stream",
     "text": [
      "False\n",
      "True\n"
     ]
    }
   ],
   "source": [
    "# 21-isupper Method\n",
    "# used to check whether all the alphabetic characters in a string are uppercase or not.\n",
    "\n",
    "n = \"hellow world\"\n",
    "m = \"HELLOW WORLD\"\n",
    "\n",
    "print(n.isupper())\n",
    "print(m.isupper())"
   ]
  },
  {
   "cell_type": "code",
   "execution_count": 33,
   "id": "717b4d87",
   "metadata": {
    "tags": []
   },
   "outputs": [
    {
     "name": "stdout",
     "output_type": "stream",
     "text": [
      "P,a,k,i,s,t,a,n\n"
     ]
    }
   ],
   "source": [
    "# 22-join Method\n",
    "# used to join a sequence of strings together into a single string, using a specified separator string.\n",
    "\n",
    "separator = \",\"\n",
    "name = \"Pakistan\"\n",
    "\n",
    "print(separator.join(name))"
   ]
  },
  {
   "cell_type": "code",
   "execution_count": 34,
   "id": "d6beb881",
   "metadata": {
    "tags": []
   },
   "outputs": [
    {
     "name": "stdout",
     "output_type": "stream",
     "text": [
      "15\n"
     ]
    }
   ],
   "source": [
    "x = lambda a : a + 10\n",
    "print(x(5))"
   ]
  },
  {
   "cell_type": "code",
   "execution_count": 35,
   "id": "3f1363a5",
   "metadata": {
    "tags": []
   },
   "outputs": [
    {
     "name": "stdout",
     "output_type": "stream",
     "text": [
      "Hello!!!!!\n"
     ]
    }
   ],
   "source": [
    "# 23-ljust Method\n",
    "# used to left justify a string within a specified width by padding it with a specified character on the right.\n",
    "\n",
    "name = \"Hello\"\n",
    "print(name.ljust(10,'!'))"
   ]
  },
  {
   "cell_type": "code",
   "execution_count": 20,
   "id": "51993eb1",
   "metadata": {
    "tags": []
   },
   "outputs": [
    {
     "name": "stdout",
     "output_type": "stream",
     "text": [
      "kawish\n"
     ]
    }
   ],
   "source": [
    "# 24-lower Method\n",
    "# used to convert all the alphabetic characters in a string to lowercase.\n",
    "\n",
    "name = \"KAWISH\"\n",
    "print(name.lower())"
   ]
  },
  {
   "cell_type": "code",
   "execution_count": 21,
   "id": "e9694cee",
   "metadata": {
    "tags": []
   },
   "outputs": [
    {
     "name": "stdout",
     "output_type": "stream",
     "text": [
      "kawish    !!\n"
     ]
    }
   ],
   "source": [
    " # 25-lstrip Method\n",
    "# used to remove leading whitespace characters from a string.\n",
    "\n",
    "name = \"    kawish    !!\"\n",
    "print(name.lstrip())"
   ]
  },
  {
   "cell_type": "code",
   "execution_count": 30,
   "id": "4f6df310",
   "metadata": {
    "tags": []
   },
   "outputs": [
    {
     "name": "stdout",
     "output_type": "stream",
     "text": [
      "Hipp Wrpd\n"
     ]
    }
   ],
   "source": [
    "# 26-maketrans Method\n",
    "# used to create a translation table that can be used by the translate() method to replace specified characters in a string.\n",
    "\n",
    "name = \"Hello World\"\n",
    "n = name.maketrans('el','ip','o')\n",
    "m = name.translate(n)\n",
    "print(m)\n",
    "      "
   ]
  },
  {
   "cell_type": "code",
   "execution_count": 31,
   "id": "9629fc1e",
   "metadata": {
    "tags": []
   },
   "outputs": [
    {
     "name": "stdout",
     "output_type": "stream",
     "text": [
      "('Welcome', ',', ' Mr.Kawish')\n"
     ]
    }
   ],
   "source": [
    "# 27-partition Method\n",
    "# used to split a string into three parts based on a specified separator.\n",
    "\n",
    "name = \"Welcome, Mr.Kawish\"\n",
    "print(name.partition(','))"
   ]
  },
  {
   "cell_type": "code",
   "execution_count": 42,
   "id": "b652d02c",
   "metadata": {
    "tags": []
   },
   "outputs": [
    {
     "name": "stdout",
     "output_type": "stream",
     "text": [
      " World\n"
     ]
    }
   ],
   "source": [
    "# 28-removeprefix Method\n",
    "# used to remove a specified prefix from a string(If start with specified string).\n",
    "\n",
    "name = \"Hello World\"\n",
    "print(name.removeprefix('Hello'))"
   ]
  },
  {
   "cell_type": "code",
   "execution_count": 44,
   "id": "2c455e1e",
   "metadata": {
    "tags": []
   },
   "outputs": [
    {
     "name": "stdout",
     "output_type": "stream",
     "text": [
      "Hello \n"
     ]
    }
   ],
   "source": [
    " #29-removesuffix Method\n",
    "# used to remove a specified suffix from a string. \n",
    "# If the string ends with the specified suffix, the suffix is removed and the modified string is returned.\n",
    "\n",
    "name = \"Hello World\"\n",
    "print(name.removesuffix(\"World\"))"
   ]
  },
  {
   "cell_type": "code",
   "execution_count": 45,
   "id": "58ab8f02",
   "metadata": {
    "tags": []
   },
   "outputs": [
    {
     "name": "stdout",
     "output_type": "stream",
     "text": [
      "Hello Universe\n"
     ]
    }
   ],
   "source": [
    "# 30-replace Method\n",
    "# used to replace all occurrences of a specified substring in a string with another substring.\n",
    "\n",
    "name = \"Hello World\"\n",
    "print(name.replace(\"World\",\"Universe\"))"
   ]
  },
  {
   "cell_type": "code",
   "execution_count": 46,
   "id": "73c07fd1",
   "metadata": {
    "tags": []
   },
   "outputs": [
    {
     "name": "stdout",
     "output_type": "stream",
     "text": [
      "7\n",
      "1\n",
      "-1\n"
     ]
    }
   ],
   "source": [
    "# 31-rfind Method\n",
    "# returns the highest index in the string where a specified substring is found. \n",
    "# The method searches the string from right to left, starting from the specified position, and returns -1 if the substring is not found.\n",
    "\n",
    "name = \"Hello World\"\n",
    "print(name.rfind(\"o\"))\n",
    "print(name.rfind(\"e\"))\n",
    "print(name.rfind(\"z\"))"
   ]
  },
  {
   "cell_type": "code",
   "execution_count": 32,
   "id": "231ecec1",
   "metadata": {
    "tags": []
   },
   "outputs": [
    {
     "name": "stdout",
     "output_type": "stream",
     "text": [
      "4\n",
      "1\n",
      "-1\n"
     ]
    }
   ],
   "source": [
    "# 32-find Method\n",
    "name = \"Hello World\"\n",
    "print(name.find(\"o\"))\n",
    "print(name.find(\"e\"))\n",
    "print(name.find(\"z\"))"
   ]
  },
  {
   "cell_type": "code",
   "execution_count": 49,
   "id": "0056d175",
   "metadata": {
    "tags": []
   },
   "outputs": [
    {
     "name": "stdout",
     "output_type": "stream",
     "text": [
      "     Hello\n",
      "-----Hello\n"
     ]
    }
   ],
   "source": [
    "# 33-rjust Method\n",
    "# returns a right-justified version of a given string by padding it with a specified character (or space) on the left side. \n",
    "# This method returns a new string and does not modify the original string.\n",
    "\n",
    "name = \"Hello\"\n",
    "print(name.rjust(10))\n",
    "print(name.rjust(10,'-'))"
   ]
  },
  {
   "cell_type": "code",
   "execution_count": 50,
   "id": "6bb3314a",
   "metadata": {
    "tags": []
   },
   "outputs": [
    {
     "name": "stdout",
     "output_type": "stream",
     "text": [
      "('apple,banana', ',', 'mango')\n"
     ]
    }
   ],
   "source": [
    "# 34-rpartition Method\n",
    "# separates the given string into three parts using a separator (also called a delimiter) specified as an argument. \n",
    "# The separation occurs from the right side of the string.\n",
    "\n",
    "n = \"apple,banana,mango\"\n",
    "print(n.rpartition(\",\"))"
   ]
  },
  {
   "cell_type": "code",
   "execution_count": 51,
   "id": "a94f5ecd",
   "metadata": {
    "tags": []
   },
   "outputs": [
    {
     "name": "stdout",
     "output_type": "stream",
     "text": [
      "['Hello', 'World']\n"
     ]
    }
   ],
   "source": [
    "# 35-rsplit Method\n",
    "# splits a given string into a list of substrings, starting from the right side of the string, using a specified separator (also called a delimiter). \n",
    "# If no separator is specified, the method splits the string at whitespace characters (spaces, tabs, and newlines)\n",
    "\n",
    "name = \"Hello World\"\n",
    "print(name.rsplit())"
   ]
  },
  {
   "cell_type": "code",
   "execution_count": 52,
   "id": "9b111e09",
   "metadata": {
    "tags": []
   },
   "outputs": [
    {
     "name": "stdout",
     "output_type": "stream",
     "text": [
      "Hello World\n"
     ]
    }
   ],
   "source": [
    "# 36-rstrip Method\n",
    "# returns a new string with trailing whitespace characters (spaces, tabs, and newlines) removed from the right side of the original string.\n",
    "\n",
    "name = \"Hello World!!\"\n",
    "print(name.rstrip('!'))"
   ]
  },
  {
   "cell_type": "code",
   "execution_count": 53,
   "id": "611409d4",
   "metadata": {
    "tags": []
   },
   "outputs": [
    {
     "name": "stdout",
     "output_type": "stream",
     "text": [
      "['Hello', 'World']\n"
     ]
    }
   ],
   "source": [
    "# 37-split Method\n",
    "# splits a given string into a list of substrings, using a specified separator (also called a delimiter). If no separator is specified, the method splits the string at whitespace characters (spaces, tabs, and newlines).\n",
    "\n",
    "name = \"   Hello World  \"\n",
    "print(name.split())"
   ]
  },
  {
   "cell_type": "code",
   "execution_count": 54,
   "id": "b405ef56",
   "metadata": {
    "tags": []
   },
   "outputs": [
    {
     "name": "stdout",
     "output_type": "stream",
     "text": [
      "['Hello', 'World', 'Goodnight']\n"
     ]
    }
   ],
   "source": [
    "# 38-splitlines Method\n",
    "# splits a given string into a list of substrings, using the newline character(s) (\\n, \\r, and \\r\\n) as the delimiter.\n",
    "\n",
    "name = \"Hello\\nWorld\\nGoodnight\"\n",
    "print(name.splitlines())"
   ]
  },
  {
   "cell_type": "code",
   "execution_count": 34,
   "id": "e1e9b4bc",
   "metadata": {
    "tags": []
   },
   "outputs": [
    {
     "name": "stdout",
     "output_type": "stream",
     "text": [
      "True\n",
      "False\n"
     ]
    }
   ],
   "source": [
    "# 39-startswith Method\n",
    "# returns a boolean value indicating whether a given string starts with a specified prefix.\n",
    "\n",
    "name = \"Kawish Ashraf\"\n",
    "print(name.startswith('Kawish'))\n",
    "print(name.startswith('Ashraf'))"
   ]
  },
  {
   "cell_type": "code",
   "execution_count": 56,
   "id": "49c4c333",
   "metadata": {
    "tags": []
   },
   "outputs": [
    {
     "name": "stdout",
     "output_type": "stream",
     "text": [
      "Dale steyn!\n"
     ]
    }
   ],
   "source": [
    "# 40-strip Method\n",
    "# returns a new string with any leading or trailing whitespace removed.\n",
    "\n",
    "name = \"   \\t\\nDale steyn!  \"\n",
    "print(name.strip())"
   ]
  },
  {
   "cell_type": "code",
   "execution_count": 35,
   "id": "992344e1",
   "metadata": {
    "tags": []
   },
   "outputs": [
    {
     "name": "stdout",
     "output_type": "stream",
     "text": [
      "dAVID wARNER\n",
      "hello world\n"
     ]
    }
   ],
   "source": [
    "# 41-swapcase Method\n",
    "# returns a new string where all the uppercase characters are converted to lowercase and vice versa\n",
    "\n",
    "name = \"David Warner\"\n",
    "print(name.swapcase())\n",
    "\n",
    "n = \"HELLO WORLD\"\n",
    "print(n.swapcase())"
   ]
  },
  {
   "cell_type": "code",
   "execution_count": 58,
   "id": "fb375891",
   "metadata": {
    "tags": []
   },
   "outputs": [
    {
     "name": "stdout",
     "output_type": "stream",
     "text": [
      "Dinesg Karthik\n"
     ]
    }
   ],
   "source": [
    "# 42-title Method\n",
    "# returns a new string with the first character of each word in uppercase and the rest of the characters in lowercase.\n",
    "\n",
    "name = \"Dinesg karthik\"\n",
    "print(name.title())"
   ]
  },
  {
   "cell_type": "code",
   "execution_count": 59,
   "id": "e1ebb520",
   "metadata": {
    "tags": []
   },
   "outputs": [
    {
     "name": "stdout",
     "output_type": "stream",
     "text": [
      "Hipp Wrpd\n"
     ]
    }
   ],
   "source": [
    "# 43-translate Method\n",
    "# returns a string where some specified characters are replaced with the character described in a dictionary, or in a mapping table.\n",
    "\n",
    "name = \"Hello World\"\n",
    "n = name.maketrans('el','ip','o')\n",
    "m = name.translate(n)\n",
    "print(m)"
   ]
  },
  {
   "cell_type": "code",
   "execution_count": 60,
   "id": "2668fa99",
   "metadata": {
    "tags": []
   },
   "outputs": [
    {
     "name": "stdout",
     "output_type": "stream",
     "text": [
      "DANIEL VETTORI\n"
     ]
    }
   ],
   "source": [
    "# 44-upper Method\n",
    "# returns a new string with all the characters converted to uppercase.\n",
    "\n",
    "name = \"Daniel Vettori\"\n",
    "print(name.upper())"
   ]
  },
  {
   "cell_type": "code",
   "execution_count": null,
   "id": "77f4d9ec",
   "metadata": {},
   "outputs": [],
   "source": []
  },
  {
   "cell_type": "code",
   "execution_count": 1,
   "id": "e8966973",
   "metadata": {
    "tags": []
   },
   "outputs": [
    {
     "name": "stdout",
     "output_type": "stream",
     "text": [
      "Institute Name: Saylani Mass IT Training Program \n",
      "Student Full Name: Kawish Ashraf \n",
      "Course Name: A.I Batch-4 \n",
      "Roll number: 119314\n"
     ]
    }
   ],
   "source": [
    "# Concatination Method with **+**:\n",
    "\n",
    "first_name = \"Kawish\"\n",
    "last_name = \"Ashraf\"\n",
    "ins_name = \"Saylani Mass IT Training Program\"\n",
    "course_name = \"A.I Batch-4\"\n",
    "roll_num = 119314\n",
    "print(\"Institute Name: \" + ins_name, \"\\nStudent Full Name: \" + first_name +' '+ last_name, \"\\nCourse Name: \" + course_name, \"\\nRoll number: \"+str(roll_num))"
   ]
  },
  {
   "cell_type": "code",
   "execution_count": 2,
   "id": "d484292f",
   "metadata": {
    "tags": []
   },
   "outputs": [
    {
     "name": "stdout",
     "output_type": "stream",
     "text": [
      "Institude Name: Saylani Mass IT Training Program\n",
      "Student Full Name: Kawish Ashraf\n",
      "course Name: A.I Batch-4\n",
      "Roll Number: 119314\n"
     ]
    }
   ],
   "source": [
    "# Concatination Method with **.format method**:\n",
    "\n",
    "first_name = \"Kawish\"\n",
    "last_name = \"Ashraf\"\n",
    "ins_name = \"Saylani Mass IT Training Program\"\n",
    "course_name = \"A.I Batch-4\"\n",
    "roll_num = 119314\n",
    "\n",
    "card = '''Institude Name: {}\n",
    "Student Full Name: {} {}\n",
    "course Name: {}\n",
    "Roll Number: {}'''.format(ins_name,first_name,last_name,course_name,roll_num)\n",
    "\n",
    "print(card)"
   ]
  },
  {
   "cell_type": "code",
   "execution_count": 3,
   "id": "40987822",
   "metadata": {
    "tags": []
   },
   "outputs": [
    {
     "name": "stdout",
     "output_type": "stream",
     "text": [
      "Pakistan zindabad\n"
     ]
    }
   ],
   "source": [
    "# 1-capitalize Method\n",
    "# The method returns a new string with the first character capitalized.\n",
    "\n",
    "name = \"pakistan zindabad\"\n",
    "print(name.capitalize())"
   ]
  },
  {
   "cell_type": "code",
   "execution_count": 9,
   "id": "348c4575",
   "metadata": {
    "tags": []
   },
   "outputs": [
    {
     "name": "stdout",
     "output_type": "stream",
     "text": [
      "pakistan zindabad\n"
     ]
    }
   ],
   "source": [
    "# 2-CaseFold Method\n",
    "# The method returns a new string with all the alphabetic characters converted to lowercase.\n",
    "\n",
    "name = \"PAKISTAN ZINDABAD\"\n",
    "print(name.casefold())"
   ]
  },
  {
   "cell_type": "code",
   "execution_count": 10,
   "id": "10b21578",
   "metadata": {
    "tags": []
   },
   "outputs": [
    {
     "name": "stdout",
     "output_type": "stream",
     "text": [
      "                                         Pakistan zindabad                                          \n"
     ]
    }
   ],
   "source": [
    "# 3-Center Method\n",
    "# method returns a new string with the original string centered within the specified width\n",
    "\n",
    "name = \"Pakistan zindabad\"\n",
    "print(name.center(100))"
   ]
  },
  {
   "cell_type": "code",
   "execution_count": 11,
   "id": "341f066c",
   "metadata": {
    "tags": []
   },
   "outputs": [
    {
     "name": "stdout",
     "output_type": "stream",
     "text": [
      "4\n"
     ]
    }
   ],
   "source": [
    "# 4-Count Method\n",
    "# returns the number of occurrences of the specified substring or character.\n",
    "\n",
    "name = \"Pakistan zindabad\"\n",
    "print(name.count('a'))"
   ]
  },
  {
   "cell_type": "code",
   "execution_count": 6,
   "id": "f48fea47",
   "metadata": {
    "tags": []
   },
   "outputs": [
    {
     "name": "stdout",
     "output_type": "stream",
     "text": [
      "b'My name is Kawish'\n"
     ]
    }
   ],
   "source": [
    "# 5-encode method\n",
    "# returns an encoded version of the original string.\n",
    "\n",
    "name = \"My name is Kawish\"\n",
    "print(name.encode())"
   ]
  },
  {
   "cell_type": "code",
   "execution_count": 8,
   "id": "1360a53f",
   "metadata": {
    "tags": []
   },
   "outputs": [
    {
     "name": "stdout",
     "output_type": "stream",
     "text": [
      "True\n",
      "True\n"
     ]
    }
   ],
   "source": [
    "# 5-endswith method\n",
    "# returns a boolean value indicating whether the string ends with a specified suffix or not.\n",
    "\n",
    "name = \"nPakistan zindabad\"\n",
    "print(name.startswith('n'))\n",
    "print(name.endswith('d'))"
   ]
  },
  {
   "cell_type": "code",
   "execution_count": null,
   "id": "bea9e7af",
   "metadata": {},
   "outputs": [],
   "source": []
  },
  {
   "cell_type": "code",
   "execution_count": 9,
   "id": "211dcc89",
   "metadata": {
    "tags": []
   },
   "outputs": [
    {
     "name": "stdout",
     "output_type": "stream",
     "text": [
      "True\n",
      "False\n"
     ]
    }
   ],
   "source": [
    "# 10-isalnum Method\n",
    "# used to check whether a string contains only alphanumeric characters or not.\n",
    "\n",
    "name1 = \"Pakistan123\"\n",
    "name2 = \"Pakistan!!123\"\n",
    "print(name1.isalnum())\n",
    "print(name2.isalnum())    "
   ]
  },
  {
   "cell_type": "code",
   "execution_count": 14,
   "id": "aabfb1ab",
   "metadata": {
    "tags": []
   },
   "outputs": [
    {
     "name": "stdout",
     "output_type": "stream",
     "text": [
      "Pakistan        zindabad\n"
     ]
    }
   ],
   "source": [
    "# 6-expandtabs\n",
    "# returns a copy of the string with all tab characters (\\t) replaced by one or more spaces.\n",
    "\n",
    "name = \"Pakistan\\tzindabad\"\n",
    "print(name.expandtabs(8))"
   ]
  },
  {
   "cell_type": "code",
   "execution_count": 17,
   "id": "bbe25a29",
   "metadata": {
    "tags": []
   },
   "outputs": [
    {
     "name": "stdout",
     "output_type": "stream",
     "text": [
      "5\n",
      "9\n",
      "-1\n"
     ]
    },
    {
     "data": {
      "text/plain": [
       "5"
      ]
     },
     "execution_count": 17,
     "metadata": {},
     "output_type": "execute_result"
    }
   ],
   "source": [
    "# 7-Find method\n",
    "# returns the lowest index in the string where a specified substring is found.\n",
    "\n",
    "name = \"Pakistan zindabad\"\n",
    "print(name.find(\"t\"))      # Returns value of t at specified index\n",
    "print(name.find(\"zin\"))    # Returns value of \"z\" only at specified index\n",
    "print(name.find(\"x\"))      # Returns No value with \"-1\" as \"x\" is not found in above string\n",
    "5"
   ]
  },
  {
   "cell_type": "code",
   "execution_count": 19,
   "id": "04abd2b0",
   "metadata": {
    "tags": []
   },
   "outputs": [
    {
     "name": "stdout",
     "output_type": "stream",
     "text": [
      "True\n",
      "False\n"
     ]
    }
   ],
   "source": [
    "# 10-isalnum Method\n",
    "# used to check whether a string contains only alphanumeric characters or not.\n",
    "\n",
    "name1 = \"Pakistan123\"\n",
    "name2 = \"Pakistan!!123\"\n",
    "print(name1.isalnum())\n",
    "print(name2.isalnum())       # It returns false due to non-alphanumeric charachter \"!\""
   ]
  },
  {
   "cell_type": "code",
   "execution_count": 20,
   "id": "507056c9",
   "metadata": {
    "tags": []
   },
   "outputs": [
    {
     "name": "stdout",
     "output_type": "stream",
     "text": [
      "True\n",
      "False\n"
     ]
    }
   ],
   "source": [
    "# 12-isascii Method\n",
    "# used to check whether a string contains only ASCII characters or not.\n",
    "\n",
    "name1 = \"Pakistan\"\n",
    "name2 = \"¡Hello¡\"\n",
    "print(name1.isascii())\n",
    "print(name2.isascii())"
   ]
  },
  {
   "cell_type": "code",
   "execution_count": 21,
   "id": "cd1c6c97",
   "metadata": {
    "tags": []
   },
   "outputs": [
    {
     "name": "stdout",
     "output_type": "stream",
     "text": [
      "True\n",
      "False\n"
     ]
    }
   ],
   "source": [
    "# 13-isdecimal Method\n",
    "# used to check whether a string contains only decimal characters or not\n",
    "\n",
    "num1 = \"1234\"\n",
    "num2 = \"12.345\"\n",
    "print(num1.isdecimal())\n",
    "print(num2.isdecimal())"
   ]
  },
  {
   "cell_type": "code",
   "execution_count": 22,
   "id": "f475f109",
   "metadata": {
    "tags": []
   },
   "outputs": [
    {
     "name": "stdout",
     "output_type": "stream",
     "text": [
      "True\n",
      "False\n"
     ]
    }
   ],
   "source": [
    "# 14-isdigit Method\n",
    "# used to check whether a string contains only digits or not.\n",
    "\n",
    "num1 = \"1234\"\n",
    "num2 = \"12.345\"\n",
    "print(num1.isdigit())\n",
    "print(num2.isdigit())"
   ]
  },
  {
   "cell_type": "code",
   "execution_count": 23,
   "id": "c730d670",
   "metadata": {
    "tags": []
   },
   "outputs": [
    {
     "name": "stdout",
     "output_type": "stream",
     "text": [
      "True\n",
      "False\n"
     ]
    }
   ],
   "source": [
    "# 15-isidentifier\n",
    "# used to check whether a string is a valid identifier or not.\n",
    "# An identifier is a sequence of characters in Python that represents a name, such as variable names, function names, class names, etc. \n",
    "# An identifier must follow certain rules, such as starting with a letter or underscore, and only containing letters, numbers, and underscores.\n",
    "\n",
    "name1 = \"my_var\"\n",
    "name2 = \"1myvar\"\n",
    "print(name1.isidentifier())\n",
    "print(name2.isidentifier())"
   ]
  },
  {
   "cell_type": "code",
   "execution_count": 16,
   "id": "455043c8",
   "metadata": {
    "tags": []
   },
   "outputs": [
    {
     "name": "stdout",
     "output_type": "stream",
     "text": [
      "False\n",
      "True\n"
     ]
    }
   ],
   "source": [
    "# 16-islower Method\n",
    "# used to check whether all the characters in a string are lowercase or not.\n",
    "\n",
    "name1 = \"KaWisH\"\n",
    "name2 = \"ashraf\"\n",
    "print(name1.islower())\n",
    "print(name2.islower())"
   ]
  },
  {
   "cell_type": "code",
   "execution_count": 17,
   "id": "67a02534",
   "metadata": {
    "tags": []
   },
   "outputs": [
    {
     "name": "stdout",
     "output_type": "stream",
     "text": [
      "I am from Sweden\n",
      "I am from India\n",
      "I am from Pakistan\n",
      "I am from Brazil\n"
     ]
    }
   ],
   "source": [
    "def my_function(country = \"Pakistan\"):\n",
    "  print(\"I am from \" + country)\n",
    "\n",
    "my_function(\"Sweden\")\n",
    "my_function(\"India\")\n",
    "my_function()\n",
    "my_function(\"Brazil\")"
   ]
  },
  {
   "cell_type": "code",
   "execution_count": 27,
   "id": "d58e4c4d",
   "metadata": {
    "tags": []
   },
   "outputs": [
    {
     "name": "stdout",
     "output_type": "stream",
     "text": [
      "True\n",
      "False\n"
     ]
    }
   ],
   "source": [
    "# 17-isnumeric\n",
    "# used to check whether all the characters in a string are numeric characters or not.\n",
    "\n",
    "num1 = \"1234\"\n",
    "num2 = \"12.345\"\n",
    "\n",
    "print(num1.isnumeric())\n",
    "print(num2.isnumeric())"
   ]
  },
  {
   "cell_type": "code",
   "execution_count": 18,
   "id": "b0e33260",
   "metadata": {
    "tags": []
   },
   "outputs": [
    {
     "name": "stdout",
     "output_type": "stream",
     "text": [
      "\n",
      "\n",
      "Recursion Example Results\n",
      "1\n",
      "3\n",
      "6\n",
      "10\n",
      "15\n",
      "21\n"
     ]
    },
    {
     "data": {
      "text/plain": [
       "21"
      ]
     },
     "execution_count": 18,
     "metadata": {},
     "output_type": "execute_result"
    }
   ],
   "source": [
    "# Recursion is a common mathematical and programming concept. It means that a function calls itself. This has the benefit of meaning that you can loop through data to reach a result.\n",
    "# In this example, tri_recursion() is a function that we have defined to call itself (\"recurse\"). We use the k variable as the data, which decrements (-1) every time we recurse. The recursion ends when the condition is not greater than 0 (i.e. when it is 0).\n",
    "def tri_recursion(k):\n",
    "  if(k > 0):\n",
    "    result = k + tri_recursion(k - 1)\n",
    "    print(result)\n",
    "  else:\n",
    "    result = 0\n",
    "  return result\n",
    "\n",
    "print(\"\\n\\nRecursion Example Results\")\n",
    "tri_recursion(6)"
   ]
  },
  {
   "cell_type": "code",
   "execution_count": 19,
   "id": "0cdbcdb9",
   "metadata": {
    "tags": []
   },
   "outputs": [
    {
     "name": "stdout",
     "output_type": "stream",
     "text": [
      "True\n",
      "False\n"
     ]
    }
   ],
   "source": [
    "# 18-isprintable Method\n",
    "# used to check whether all the characters in a string are printable or not.\n",
    "\n",
    "n = \"Hellow World\"\n",
    "m = \"Hellow \\n World\"\n",
    "print(n.isprintable())\n",
    "print(m.isprintable())"
   ]
  },
  {
   "cell_type": "code",
   "execution_count": 30,
   "id": "98588735",
   "metadata": {
    "tags": []
   },
   "outputs": [
    {
     "name": "stdout",
     "output_type": "stream",
     "text": [
      "False\n",
      "True\n",
      "False\n"
     ]
    }
   ],
   "source": [
    "# 19-isspace Method\n",
    "# used to check whether all the characters in a string are whitespace characters or not.\n",
    "\n",
    "n = \"Hellow World\"\n",
    "m = \"\\t\\n\"\n",
    "p = \"\"\n",
    "\n",
    "print(n.isspace())\n",
    "print(m.isspace())\n",
    "print(p.isspace())"
   ]
  },
  {
   "cell_type": "code",
   "execution_count": 31,
   "id": "fa1fc27b",
   "metadata": {
    "tags": []
   },
   "outputs": [
    {
     "name": "stdout",
     "output_type": "stream",
     "text": [
      "True\n",
      "False\n"
     ]
    }
   ],
   "source": [
    "# 20-istitle Method\n",
    "# used to check whether a string is a titlecased string or not.\n",
    "# A titlecased string is a string where the first letter of each word is capitalized and all other letters are lowercase.\n",
    "\n",
    "n = \"The Pakistan\"\n",
    "m = \"the pakistan\"\n",
    "\n",
    "print(n.istitle())\n",
    "print(m.istitle())"
   ]
  },
  {
   "cell_type": "code",
   "execution_count": 32,
   "id": "3ad2b57e",
   "metadata": {
    "tags": []
   },
   "outputs": [
    {
     "name": "stdout",
     "output_type": "stream",
     "text": [
      "False\n",
      "True\n"
     ]
    }
   ],
   "source": [
    "# 21-isupper Method\n",
    "# used to check whether all the alphabetic characters in a string are uppercase or not.\n",
    "\n",
    "n = \"hellow world\"\n",
    "m = \"HELLOW WORLD\"\n",
    "\n",
    "print(n.isupper())\n",
    "print(m.isupper())"
   ]
  },
  {
   "cell_type": "code",
   "execution_count": 33,
   "id": "4a7c7bb1",
   "metadata": {
    "tags": []
   },
   "outputs": [
    {
     "name": "stdout",
     "output_type": "stream",
     "text": [
      "P,a,k,i,s,t,a,n\n"
     ]
    }
   ],
   "source": [
    "# 22-join Method\n",
    "# used to join a sequence of strings together into a single string, using a specified separator string.\n",
    "\n",
    "separator = \",\"\n",
    "name = \"Pakistan\"\n",
    "\n",
    "print(separator.join(name))"
   ]
  },
  {
   "cell_type": "code",
   "execution_count": 34,
   "id": "ea42651c",
   "metadata": {
    "tags": []
   },
   "outputs": [
    {
     "name": "stdout",
     "output_type": "stream",
     "text": [
      "15\n"
     ]
    }
   ],
   "source": [
    "x = lambda a : a + 10\n",
    "print(x(5))"
   ]
  },
  {
   "cell_type": "code",
   "execution_count": 35,
   "id": "e2b6c676",
   "metadata": {
    "tags": []
   },
   "outputs": [
    {
     "name": "stdout",
     "output_type": "stream",
     "text": [
      "Hello!!!!!\n"
     ]
    }
   ],
   "source": [
    "# 23-ljust Method\n",
    "# used to left justify a string within a specified width by padding it with a specified character on the right.\n",
    "\n",
    "name = \"Hello\"\n",
    "print(name.ljust(10,'!'))"
   ]
  },
  {
   "cell_type": "code",
   "execution_count": 20,
   "id": "726418d4",
   "metadata": {
    "tags": []
   },
   "outputs": [
    {
     "name": "stdout",
     "output_type": "stream",
     "text": [
      "kawish\n"
     ]
    }
   ],
   "source": [
    "# 24-lower Method\n",
    "# used to convert all the alphabetic characters in a string to lowercase.\n",
    "\n",
    "name = \"KAWISH\"\n",
    "print(name.lower())"
   ]
  },
  {
   "cell_type": "code",
   "execution_count": 21,
   "id": "9dd16bd2",
   "metadata": {
    "tags": []
   },
   "outputs": [
    {
     "name": "stdout",
     "output_type": "stream",
     "text": [
      "kawish    !!\n"
     ]
    }
   ],
   "source": [
    " # 25-lstrip Method\n",
    "# used to remove leading whitespace characters from a string.\n",
    "\n",
    "name = \"    kawish    !!\"\n",
    "print(name.lstrip())"
   ]
  },
  {
   "cell_type": "code",
   "execution_count": 30,
   "id": "1a1fd32e",
   "metadata": {
    "tags": []
   },
   "outputs": [
    {
     "name": "stdout",
     "output_type": "stream",
     "text": [
      "Hipp Wrpd\n"
     ]
    }
   ],
   "source": [
    "# 26-maketrans Method\n",
    "# used to create a translation table that can be used by the translate() method to replace specified characters in a string.\n",
    "\n",
    "name = \"Hello World\"\n",
    "n = name.maketrans('el','ip','o')\n",
    "m = name.translate(n)\n",
    "print(m)\n",
    "      "
   ]
  },
  {
   "cell_type": "code",
   "execution_count": 31,
   "id": "a3563700",
   "metadata": {
    "tags": []
   },
   "outputs": [
    {
     "name": "stdout",
     "output_type": "stream",
     "text": [
      "('Welcome', ',', ' Mr.Kawish')\n"
     ]
    }
   ],
   "source": [
    "# 27-partition Method\n",
    "# used to split a string into three parts based on a specified separator.\n",
    "\n",
    "name = \"Welcome, Mr.Kawish\"\n",
    "print(name.partition(','))"
   ]
  },
  {
   "cell_type": "code",
   "execution_count": 42,
   "id": "5de1f090",
   "metadata": {
    "tags": []
   },
   "outputs": [
    {
     "name": "stdout",
     "output_type": "stream",
     "text": [
      " World\n"
     ]
    }
   ],
   "source": [
    "# 28-removeprefix Method\n",
    "# used to remove a specified prefix from a string(If start with specified string).\n",
    "\n",
    "name = \"Hello World\"\n",
    "print(name.removeprefix('Hello'))"
   ]
  },
  {
   "cell_type": "code",
   "execution_count": 44,
   "id": "ebc7c366",
   "metadata": {
    "tags": []
   },
   "outputs": [
    {
     "name": "stdout",
     "output_type": "stream",
     "text": [
      "Hello \n"
     ]
    }
   ],
   "source": [
    " #29-removesuffix Method\n",
    "# used to remove a specified suffix from a string. \n",
    "# If the string ends with the specified suffix, the suffix is removed and the modified string is returned.\n",
    "\n",
    "name = \"Hello World\"\n",
    "print(name.removesuffix(\"World\"))"
   ]
  },
  {
   "cell_type": "code",
   "execution_count": 45,
   "id": "f422e799",
   "metadata": {
    "tags": []
   },
   "outputs": [
    {
     "name": "stdout",
     "output_type": "stream",
     "text": [
      "Hello Universe\n"
     ]
    }
   ],
   "source": [
    "# 30-replace Method\n",
    "# used to replace all occurrences of a specified substring in a string with another substring.\n",
    "\n",
    "name = \"Hello World\"\n",
    "print(name.replace(\"World\",\"Universe\"))"
   ]
  },
  {
   "cell_type": "code",
   "execution_count": 46,
   "id": "9abf6587",
   "metadata": {
    "tags": []
   },
   "outputs": [
    {
     "name": "stdout",
     "output_type": "stream",
     "text": [
      "7\n",
      "1\n",
      "-1\n"
     ]
    }
   ],
   "source": [
    "# 31-rfind Method\n",
    "# returns the highest index in the string where a specified substring is found. \n",
    "# The method searches the string from right to left, starting from the specified position, and returns -1 if the substring is not found.\n",
    "\n",
    "name = \"Hello World\"\n",
    "print(name.rfind(\"o\"))\n",
    "print(name.rfind(\"e\"))\n",
    "print(name.rfind(\"z\"))"
   ]
  },
  {
   "cell_type": "code",
   "execution_count": 32,
   "id": "0757a6ed",
   "metadata": {
    "tags": []
   },
   "outputs": [
    {
     "name": "stdout",
     "output_type": "stream",
     "text": [
      "4\n",
      "1\n",
      "-1\n"
     ]
    }
   ],
   "source": [
    "# 32-find Method\n",
    "name = \"Hello World\"\n",
    "print(name.find(\"o\"))\n",
    "print(name.find(\"e\"))\n",
    "print(name.find(\"z\"))"
   ]
  },
  {
   "cell_type": "code",
   "execution_count": 49,
   "id": "8ebeb958",
   "metadata": {
    "tags": []
   },
   "outputs": [
    {
     "name": "stdout",
     "output_type": "stream",
     "text": [
      "     Hello\n",
      "-----Hello\n"
     ]
    }
   ],
   "source": [
    "# 33-rjust Method\n",
    "# returns a right-justified version of a given string by padding it with a specified character (or space) on the left side. \n",
    "# This method returns a new string and does not modify the original string.\n",
    "\n",
    "name = \"Hello\"\n",
    "print(name.rjust(10))\n",
    "print(name.rjust(10,'-'))"
   ]
  },
  {
   "cell_type": "code",
   "execution_count": 50,
   "id": "69941ff2",
   "metadata": {
    "tags": []
   },
   "outputs": [
    {
     "name": "stdout",
     "output_type": "stream",
     "text": [
      "('apple,banana', ',', 'mango')\n"
     ]
    }
   ],
   "source": [
    "# 34-rpartition Method\n",
    "# separates the given string into three parts using a separator (also called a delimiter) specified as an argument. \n",
    "# The separation occurs from the right side of the string.\n",
    "\n",
    "n = \"apple,banana,mango\"\n",
    "print(n.rpartition(\",\"))"
   ]
  },
  {
   "cell_type": "code",
   "execution_count": 51,
   "id": "7cbe738e",
   "metadata": {
    "tags": []
   },
   "outputs": [
    {
     "name": "stdout",
     "output_type": "stream",
     "text": [
      "['Hello', 'World']\n"
     ]
    }
   ],
   "source": [
    "# 35-rsplit Method\n",
    "# splits a given string into a list of substrings, starting from the right side of the string, using a specified separator (also called a delimiter). \n",
    "# If no separator is specified, the method splits the string at whitespace characters (spaces, tabs, and newlines)\n",
    "\n",
    "name = \"Hello World\"\n",
    "print(name.rsplit())"
   ]
  },
  {
   "cell_type": "code",
   "execution_count": 52,
   "id": "75885f2a",
   "metadata": {
    "tags": []
   },
   "outputs": [
    {
     "name": "stdout",
     "output_type": "stream",
     "text": [
      "Hello World\n"
     ]
    }
   ],
   "source": [
    "# 36-rstrip Method\n",
    "# returns a new string with trailing whitespace characters (spaces, tabs, and newlines) removed from the right side of the original string.\n",
    "\n",
    "name = \"Hello World!!\"\n",
    "print(name.rstrip('!'))"
   ]
  },
  {
   "cell_type": "code",
   "execution_count": 53,
   "id": "a486b5a5",
   "metadata": {
    "tags": []
   },
   "outputs": [
    {
     "name": "stdout",
     "output_type": "stream",
     "text": [
      "['Hello', 'World']\n"
     ]
    }
   ],
   "source": [
    "# 37-split Method\n",
    "# splits a given string into a list of substrings, using a specified separator (also called a delimiter). If no separator is specified, the method splits the string at whitespace characters (spaces, tabs, and newlines).\n",
    "\n",
    "name = \"   Hello World  \"\n",
    "print(name.split())"
   ]
  },
  {
   "cell_type": "code",
   "execution_count": 54,
   "id": "26e3b7c0",
   "metadata": {
    "tags": []
   },
   "outputs": [
    {
     "name": "stdout",
     "output_type": "stream",
     "text": [
      "['Hello', 'World', 'Goodnight']\n"
     ]
    }
   ],
   "source": [
    "# 38-splitlines Method\n",
    "# splits a given string into a list of substrings, using the newline character(s) (\\n, \\r, and \\r\\n) as the delimiter.\n",
    "\n",
    "name = \"Hello\\nWorld\\nGoodnight\"\n",
    "print(name.splitlines())"
   ]
  },
  {
   "cell_type": "code",
   "execution_count": 34,
   "id": "cc6324bb",
   "metadata": {
    "tags": []
   },
   "outputs": [
    {
     "name": "stdout",
     "output_type": "stream",
     "text": [
      "True\n",
      "False\n"
     ]
    }
   ],
   "source": [
    "# 39-startswith Method\n",
    "# returns a boolean value indicating whether a given string starts with a specified prefix.\n",
    "\n",
    "name = \"Kawish Ashraf\"\n",
    "print(name.startswith('Kawish'))\n",
    "print(name.startswith('Ashraf'))"
   ]
  },
  {
   "cell_type": "code",
   "execution_count": 56,
   "id": "b23766b2",
   "metadata": {
    "tags": []
   },
   "outputs": [
    {
     "name": "stdout",
     "output_type": "stream",
     "text": [
      "Dale steyn!\n"
     ]
    }
   ],
   "source": [
    "# 40-strip Method\n",
    "# returns a new string with any leading or trailing whitespace removed.\n",
    "\n",
    "name = \"   \\t\\nDale steyn!  \"\n",
    "print(name.strip())"
   ]
  },
  {
   "cell_type": "code",
   "execution_count": 35,
   "id": "1fc4914d",
   "metadata": {
    "tags": []
   },
   "outputs": [
    {
     "name": "stdout",
     "output_type": "stream",
     "text": [
      "dAVID wARNER\n",
      "hello world\n"
     ]
    }
   ],
   "source": [
    "# 41-swapcase Method\n",
    "# returns a new string where all the uppercase characters are converted to lowercase and vice versa\n",
    "\n",
    "name = \"David Warner\"\n",
    "print(name.swapcase())\n",
    "\n",
    "n = \"HELLO WORLD\"\n",
    "print(n.swapcase())"
   ]
  },
  {
   "cell_type": "code",
   "execution_count": 58,
   "id": "07dae493",
   "metadata": {
    "tags": []
   },
   "outputs": [
    {
     "name": "stdout",
     "output_type": "stream",
     "text": [
      "Dinesg Karthik\n"
     ]
    }
   ],
   "source": [
    "# 42-title Method\n",
    "# returns a new string with the first character of each word in uppercase and the rest of the characters in lowercase.\n",
    "\n",
    "name = \"Dinesg karthik\"\n",
    "print(name.title())"
   ]
  },
  {
   "cell_type": "code",
   "execution_count": 59,
   "id": "2de732fe",
   "metadata": {
    "tags": []
   },
   "outputs": [
    {
     "name": "stdout",
     "output_type": "stream",
     "text": [
      "Hipp Wrpd\n"
     ]
    }
   ],
   "source": [
    "# 43-translate Method\n",
    "# returns a string where some specified characters are replaced with the character described in a dictionary, or in a mapping table.\n",
    "\n",
    "name = \"Hello World\"\n",
    "n = name.maketrans('el','ip','o')\n",
    "m = name.translate(n)\n",
    "print(m)"
   ]
  },
  {
   "cell_type": "code",
   "execution_count": 60,
   "id": "0687eb7c",
   "metadata": {
    "tags": []
   },
   "outputs": [
    {
     "name": "stdout",
     "output_type": "stream",
     "text": [
      "DANIEL VETTORI\n"
     ]
    }
   ],
   "source": [
    "# 44-upper Method\n",
    "# returns a new string with all the characters converted to uppercase.\n",
    "\n",
    "name = \"Daniel Vettori\"\n",
    "print(name.upper())"
   ]
  },
  {
   "cell_type": "code",
   "execution_count": null,
   "id": "c01fd1e1",
   "metadata": {},
   "outputs": [],
   "source": []
  }
 ],
 "metadata": {
  "kernelspec": {
   "display_name": "Python 3 (ipykernel)",
   "language": "python",
   "name": "python3"
  },
  "language_info": {
   "codemirror_mode": {
    "name": "ipython",
    "version": 3
   },
   "file_extension": ".py",
   "mimetype": "text/x-python",
   "name": "python",
   "nbconvert_exporter": "python",
   "pygments_lexer": "ipython3",
   "version": "3.10.9"
  }
 },
 "nbformat": 4,
 "nbformat_minor": 5
}
