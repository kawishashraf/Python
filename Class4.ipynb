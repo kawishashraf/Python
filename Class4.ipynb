{
 "cells": [
  {
   "cell_type": "markdown",
   "id": "c00456e7",
   "metadata": {},
   "source": [
    "# Python Operators\n",
    "Operators are used to perform operations on variables and values.<br>\n",
    "\n",
    "In the example below, we use the + operator to add together two values:\n",
    "\n",
    "<img src=\"./Untitled1.png\">    \n",
    "Python divides the operators in the following groups:\n",
    "\n",
    "* Arithmetic operators\n",
    "* Assignment operators\n",
    "* Comparison operators\n",
    "* Logical operators\n",
    "* Identity operators\n",
    "* Membership operators\n",
    "* Bitwise operators\n"
   ]
  },
  {
   "cell_type": "code",
   "execution_count": 1,
   "id": "5279ce4a",
   "metadata": {},
   "outputs": [
    {
     "name": "stdout",
     "output_type": "stream",
     "text": [
      "4\n",
      "9\n"
     ]
    }
   ],
   "source": [
    "#    opd opr opd\n",
    "print(2    +         2)# 4 addition operation\n",
    "print(2 + 7)# 9 addition operation"
   ]
  },
  {
   "cell_type": "code",
   "execution_count": 2,
   "id": "244983ba",
   "metadata": {},
   "outputs": [
    {
     "name": "stdout",
     "output_type": "stream",
     "text": [
      "10\n"
     ]
    }
   ],
   "source": [
    "num1 = 7\n",
    "num2 = 3\n",
    "\n",
    "print(num1 + num2) # addtion operation"
   ]
  },
  {
   "cell_type": "code",
   "execution_count": 4,
   "id": "a75aa928",
   "metadata": {},
   "outputs": [
    {
     "name": "stdout",
     "output_type": "stream",
     "text": [
      "11\n"
     ]
    }
   ],
   "source": [
    "num1 = \"1\"\n",
    "num2 = \"1\"\n",
    "\n",
    "print(num1 + num2)# concatination"
   ]
  },
  {
   "cell_type": "code",
   "execution_count": 5,
   "id": "e4147745",
   "metadata": {},
   "outputs": [
    {
     "name": "stdout",
     "output_type": "stream",
     "text": [
      "num1:<class 'str'>  num2: <class 'int'>\n"
     ]
    },
    {
     "ename": "TypeError",
     "evalue": "can only concatenate str (not \"int\") to str",
     "output_type": "error",
     "traceback": [
      "\u001b[1;31m---------------------------------------------------------------------------\u001b[0m",
      "\u001b[1;31mTypeError\u001b[0m                                 Traceback (most recent call last)",
      "\u001b[1;32m~\\AppData\\Local\\Temp\\ipykernel_1744\\480924638.py\u001b[0m in \u001b[0;36m<module>\u001b[1;34m\u001b[0m\n\u001b[0;32m      3\u001b[0m \u001b[1;33m\u001b[0m\u001b[0m\n\u001b[0;32m      4\u001b[0m \u001b[0mprint\u001b[0m\u001b[1;33m(\u001b[0m\u001b[1;34mf\"num1:{type(num1)}  num2: {type(num2)}\"\u001b[0m\u001b[1;33m)\u001b[0m\u001b[1;33m\u001b[0m\u001b[1;33m\u001b[0m\u001b[0m\n\u001b[1;32m----> 5\u001b[1;33m \u001b[0mprint\u001b[0m\u001b[1;33m(\u001b[0m\u001b[0mnum1\u001b[0m \u001b[1;33m+\u001b[0m \u001b[0mnum2\u001b[0m\u001b[1;33m)\u001b[0m\u001b[1;31m# concatination\u001b[0m\u001b[1;33m\u001b[0m\u001b[1;33m\u001b[0m\u001b[0m\n\u001b[0m",
      "\u001b[1;31mTypeError\u001b[0m: can only concatenate str (not \"int\") to str"
     ]
    }
   ],
   "source": [
    "num1 = \"1\" # string\n",
    "num2 = 2 # intiger\n",
    "\n",
    "print(f\"num1:{type(num1)}  num2: {type(num2)}\")\n",
    "print(num1 + num2)# concatination"
   ]
  },
  {
   "cell_type": "code",
   "execution_count": 6,
   "id": "9f608750",
   "metadata": {},
   "outputs": [
    {
     "name": "stdout",
     "output_type": "stream",
     "text": [
      "num1:<class 'int'>  num2: <class 'str'>\n"
     ]
    },
    {
     "ename": "TypeError",
     "evalue": "unsupported operand type(s) for +: 'int' and 'str'",
     "output_type": "error",
     "traceback": [
      "\u001b[1;31m---------------------------------------------------------------------------\u001b[0m",
      "\u001b[1;31mTypeError\u001b[0m                                 Traceback (most recent call last)",
      "\u001b[1;32m~\\AppData\\Local\\Temp\\ipykernel_1744\\4016928451.py\u001b[0m in \u001b[0;36m<module>\u001b[1;34m\u001b[0m\n\u001b[0;32m      3\u001b[0m \u001b[1;33m\u001b[0m\u001b[0m\n\u001b[0;32m      4\u001b[0m \u001b[0mprint\u001b[0m\u001b[1;33m(\u001b[0m\u001b[1;34mf\"num1:{type(num1)}  num2: {type(num2)}\"\u001b[0m\u001b[1;33m)\u001b[0m\u001b[1;33m\u001b[0m\u001b[1;33m\u001b[0m\u001b[0m\n\u001b[1;32m----> 5\u001b[1;33m \u001b[0mprint\u001b[0m\u001b[1;33m(\u001b[0m\u001b[0mnum1\u001b[0m \u001b[1;33m+\u001b[0m \u001b[0mnum2\u001b[0m\u001b[1;33m)\u001b[0m\u001b[1;31m# concatination\u001b[0m\u001b[1;33m\u001b[0m\u001b[1;33m\u001b[0m\u001b[0m\n\u001b[0m",
      "\u001b[1;31mTypeError\u001b[0m: unsupported operand type(s) for +: 'int' and 'str'"
     ]
    }
   ],
   "source": [
    "num1 = 2 # int\n",
    "num2 = \"3\" # str\n",
    "\n",
    "print(f\"num1:{type(num1)}  num2: {type(num2)}\")\n",
    "print(num1 + num2)# concatination"
   ]
  },
  {
   "cell_type": "code",
   "execution_count": 8,
   "id": "dbb355df",
   "metadata": {},
   "outputs": [
    {
     "name": "stdout",
     "output_type": "stream",
     "text": [
      "num1:<class 'list'>  num2: <class 'list'>\n",
      "['a', 'b', 'c'] [1, 2, 3]\n",
      "['a', 'b', 'c', 1, 2, 3]\n"
     ]
    }
   ],
   "source": [
    "l1 = ['a','b','c']\n",
    "l2 = [1,2,3]\n",
    "\n",
    "print(f\"num1:{type(l1)}  num2: {type(l2)}\")\n",
    "print(l1,l2)\n",
    "print(l1 + l2)# combine two list"
   ]
  },
  {
   "cell_type": "markdown",
   "id": "3ec83812",
   "metadata": {},
   "source": [
    "# Python Arithmetic Operators\n"
   ]
  },
  {
   "cell_type": "code",
   "execution_count": 15,
   "id": "5091c8ae",
   "metadata": {},
   "outputs": [
    {
     "data": {
      "text/plain": [
       "'<h1>Python Arithmetic Operators</h1>'"
      ]
     },
     "metadata": {},
     "output_type": "display_data"
    },
    {
     "name": "stdout",
     "output_type": "stream",
     "text": [
      "Operator            Name                Example\n",
      "+                   Addition            x + y               \n",
      "-                   Subtraction         x - y               \n",
      "*                   Multiplication      x * y               \n",
      "/                   Division            x / y               \n",
      "%                   Modulus             x % y               \n",
      "**                  Exponentiation      x ** y              \n",
      "//                  Floor division      x // y\n"
     ]
    }
   ],
   "source": [
    "x = \"\"\"Operator\tName\tExample\n",
    "+\tAddition\tx + y\t\n",
    "-\tSubtraction\tx - y\t\n",
    "*\tMultiplication\tx * y\t\n",
    "/\tDivision\tx / y\t\n",
    "%\tModulus\tx % y\t\n",
    "**\tExponentiation\tx ** y\t\n",
    "//\tFloor division\tx // y\"\"\".expandtabs(20)\n",
    "print(x)"
   ]
  },
  {
   "cell_type": "code",
   "execution_count": 16,
   "id": "64666cd6",
   "metadata": {},
   "outputs": [
    {
     "name": "stdout",
     "output_type": "stream",
     "text": [
      "12\n"
     ]
    }
   ],
   "source": [
    "x = 10\n",
    "y = 2\n",
    "\n",
    "print(x + y)"
   ]
  },
  {
   "cell_type": "code",
   "execution_count": 17,
   "id": "6efeed6d",
   "metadata": {},
   "outputs": [
    {
     "name": "stdout",
     "output_type": "stream",
     "text": [
      "8\n"
     ]
    }
   ],
   "source": [
    "x = 10\n",
    "y = 2\n",
    "\n",
    "print(x - y)"
   ]
  },
  {
   "cell_type": "code",
   "execution_count": 18,
   "id": "d41065e6",
   "metadata": {},
   "outputs": [
    {
     "name": "stdout",
     "output_type": "stream",
     "text": [
      "20\n"
     ]
    }
   ],
   "source": [
    "x = 10\n",
    "y = 2\n",
    "\n",
    "print(x * y)"
   ]
  },
  {
   "cell_type": "code",
   "execution_count": 19,
   "id": "8e954d6a",
   "metadata": {},
   "outputs": [
    {
     "name": "stdout",
     "output_type": "stream",
     "text": [
      "5.0\n"
     ]
    }
   ],
   "source": [
    "x = 10 # int\n",
    "y = 2 # int\n",
    "\n",
    "print(x / y) # float"
   ]
  },
  {
   "cell_type": "markdown",
   "id": "b1c46dbd",
   "metadata": {},
   "source": [
    "<img src=\"./Untitled.png\">"
   ]
  },
  {
   "cell_type": "code",
   "execution_count": 20,
   "id": "9bb48b32",
   "metadata": {},
   "outputs": [
    {
     "name": "stdout",
     "output_type": "stream",
     "text": [
      "2\n"
     ]
    }
   ],
   "source": [
    "x = 11\n",
    "y = 3\n",
    "\n",
    "print(x % y)"
   ]
  },
  {
   "cell_type": "code",
   "execution_count": 22,
   "id": "d00280a5",
   "metadata": {},
   "outputs": [
    {
     "name": "stdout",
     "output_type": "stream",
     "text": [
      "4\n",
      "8\n"
     ]
    }
   ],
   "source": [
    "x = 2\n",
    "y = 2\n",
    "\n",
    "print(x ** y)\n",
    "print(2 ** 3)"
   ]
  },
  {
   "cell_type": "code",
   "execution_count": 27,
   "id": "32def7a2",
   "metadata": {},
   "outputs": [
    {
     "name": "stdout",
     "output_type": "stream",
     "text": [
      "2.5\n",
      "2\n",
      "1.8461538461538463\n",
      "1\n"
     ]
    }
   ],
   "source": [
    "print(5 / 2)\n",
    "print(5 // 2)\n",
    "print(24 / 13)\n",
    "print(24 // 13)"
   ]
  },
  {
   "cell_type": "markdown",
   "id": "c788feed",
   "metadata": {},
   "source": [
    "# Python Assignment Operators\n",
    "Assignment operators are used to assign values to variables:"
   ]
  },
  {
   "cell_type": "code",
   "execution_count": 32,
   "id": "1b15b83a",
   "metadata": {},
   "outputs": [
    {
     "name": "stdout",
     "output_type": "stream",
     "text": [
      "5\n",
      "5\n",
      "5\n",
      "5\n"
     ]
    }
   ],
   "source": [
    "a = 5\n",
    "\n",
    "print(a)\n",
    "print(a)\n",
    "print(a)\n",
    "print(a)"
   ]
  },
  {
   "cell_type": "code",
   "execution_count": 37,
   "id": "362182ee",
   "metadata": {},
   "outputs": [
    {
     "name": "stdout",
     "output_type": "stream",
     "text": [
      "5\n",
      "6\n",
      "7\n",
      "8\n"
     ]
    }
   ],
   "source": [
    "a = 5        # 5\n",
    "print(a)\n",
    "#   5 + 1\n",
    "a = a + 1    #6\n",
    "print(a)\n",
    "a += 1\n",
    "print(a)\n",
    "a += 1\n",
    "print(a)"
   ]
  },
  {
   "cell_type": "code",
   "execution_count": 36,
   "id": "ed775410",
   "metadata": {},
   "outputs": [
    {
     "name": "stdout",
     "output_type": "stream",
     "text": [
      "1\n",
      "3\n",
      "7\n",
      "5\n"
     ]
    }
   ],
   "source": [
    "a = 1     # Assign new value\n",
    "print(a)\n",
    "a = 3     # overwrite old value with 3\n",
    "print(a)\n",
    "a = 7    # overwrite\n",
    "print(a)\n",
    "a = 5   # overwrite\n",
    "\n",
    "print(a)"
   ]
  },
  {
   "cell_type": "code",
   "execution_count": 39,
   "id": "fce916b8",
   "metadata": {},
   "outputs": [
    {
     "name": "stdout",
     "output_type": "stream",
     "text": [
      "10\n",
      "9\n",
      "8\n"
     ]
    }
   ],
   "source": [
    "a =  10\n",
    "print(a)\n",
    "\n",
    "a -= 1   # new way\n",
    "print(a)\n",
    "\n",
    "a = a -1 #old way\n",
    "\n",
    "print(a)"
   ]
  },
  {
   "cell_type": "code",
   "execution_count": 41,
   "id": "02a717e0",
   "metadata": {},
   "outputs": [
    {
     "name": "stdout",
     "output_type": "stream",
     "text": [
      "10\n",
      "20\n"
     ]
    }
   ],
   "source": [
    "a =  10\n",
    "print(a)\n",
    "\n",
    "a *= 2   # new way\n",
    "print(a)\n"
   ]
  },
  {
   "cell_type": "code",
   "execution_count": 42,
   "id": "741c6c57",
   "metadata": {},
   "outputs": [
    {
     "name": "stdout",
     "output_type": "stream",
     "text": [
      "10\n",
      "100\n"
     ]
    }
   ],
   "source": [
    "a =  10\n",
    "print(a)\n",
    "\n",
    "a **= 2   # new way\n",
    "print(a)"
   ]
  },
  {
   "cell_type": "code",
   "execution_count": 43,
   "id": "9a3491f5",
   "metadata": {},
   "outputs": [
    {
     "name": "stdout",
     "output_type": "stream",
     "text": [
      "10\n",
      "5.0\n"
     ]
    }
   ],
   "source": [
    "a =  10\n",
    "print(a)\n",
    "\n",
    "a /= 2   # new way\n",
    "print(a)"
   ]
  },
  {
   "cell_type": "code",
   "execution_count": 44,
   "id": "e05f6e70",
   "metadata": {},
   "outputs": [
    {
     "name": "stdout",
     "output_type": "stream",
     "text": [
      "10\n",
      "5\n"
     ]
    }
   ],
   "source": [
    "a =  10\n",
    "print(a)\n",
    "\n",
    "a //= 2   # new way\n",
    "print(a)"
   ]
  },
  {
   "cell_type": "markdown",
   "id": "44614bdc",
   "metadata": {},
   "source": [
    "<img src=\"./binary.PNG\">"
   ]
  },
  {
   "cell_type": "code",
   "execution_count": 48,
   "id": "13b52a13",
   "metadata": {},
   "outputs": [
    {
     "name": "stdout",
     "output_type": "stream",
     "text": [
      "65\n"
     ]
    }
   ],
   "source": [
    "x = 65\n",
    "x = x & 65\n",
    "\n",
    "print(x)"
   ]
  },
  {
   "cell_type": "code",
   "execution_count": 49,
   "id": "1247786e",
   "metadata": {},
   "outputs": [
    {
     "name": "stdout",
     "output_type": "stream",
     "text": [
      "64\n"
     ]
    }
   ],
   "source": [
    "x = 65\n",
    "x = x & 66\n",
    "\n",
    "print(x)"
   ]
  },
  {
   "cell_type": "markdown",
   "id": "ce8aecaa",
   "metadata": {},
   "source": [
    "# Python Comparison Operators\n"
   ]
  },
  {
   "cell_type": "code",
   "execution_count": 50,
   "id": "3d1b1543",
   "metadata": {},
   "outputs": [
    {
     "name": "stdout",
     "output_type": "stream",
     "text": [
      "True\n"
     ]
    }
   ],
   "source": [
    "a = 5\n",
    "b = 5\n",
    "\n",
    "print(a == b)"
   ]
  },
  {
   "cell_type": "code",
   "execution_count": 51,
   "id": "4aa54533",
   "metadata": {},
   "outputs": [
    {
     "name": "stdout",
     "output_type": "stream",
     "text": [
      "False\n"
     ]
    }
   ],
   "source": [
    "a = 5\n",
    "b = 7\n",
    "\n",
    "print(a == b)"
   ]
  },
  {
   "cell_type": "code",
   "execution_count": 52,
   "id": "9dd51f2d",
   "metadata": {},
   "outputs": [
    {
     "name": "stdout",
     "output_type": "stream",
     "text": [
      "False\n"
     ]
    }
   ],
   "source": [
    "a = 5\n",
    "b = 8\n",
    "\n",
    "#     5   8\n",
    "print(a > b)"
   ]
  },
  {
   "cell_type": "code",
   "execution_count": 56,
   "id": "a7d19754",
   "metadata": {},
   "outputs": [
    {
     "name": "stdout",
     "output_type": "stream",
     "text": [
      "False\n"
     ]
    }
   ],
   "source": [
    "a = 9\n",
    "b = 5\n",
    "\n",
    "print(a <= b)"
   ]
  },
  {
   "cell_type": "code",
   "execution_count": 57,
   "id": "0460b3e5",
   "metadata": {},
   "outputs": [
    {
     "data": {
      "text/plain": [
       "False"
      ]
     },
     "execution_count": 57,
     "metadata": {},
     "output_type": "execute_result"
    }
   ],
   "source": [
    "a = 5\n",
    "b = 5\n",
    "#     5    5\n",
    "print(a != b)"
   ]
  },
  {
   "cell_type": "code",
   "execution_count": 58,
   "id": "1e479335",
   "metadata": {},
   "outputs": [
    {
     "name": "stdout",
     "output_type": "stream",
     "text": [
      "True\n"
     ]
    }
   ],
   "source": [
    "a = 'qasim'\n",
    "b = 'qasim'\n",
    "\n",
    "print(a == b)"
   ]
  },
  {
   "cell_type": "code",
   "execution_count": 61,
   "id": "5add7f14",
   "metadata": {},
   "outputs": [
    {
     "name": "stdout",
     "output_type": "stream",
     "text": [
      "True\n"
     ]
    }
   ],
   "source": [
    "a = 'qasim'\n",
    "b = '7'\n",
    "\n",
    "print(a > b)"
   ]
  },
  {
   "cell_type": "code",
   "execution_count": 62,
   "id": "8dd26208",
   "metadata": {},
   "outputs": [
    {
     "data": {
      "text/plain": [
       "'A'"
      ]
     },
     "execution_count": 62,
     "metadata": {},
     "output_type": "execute_result"
    }
   ],
   "source": [
    "chr(65)"
   ]
  },
  {
   "cell_type": "code",
   "execution_count": 63,
   "id": "88b9bfe6",
   "metadata": {},
   "outputs": [
    {
     "data": {
      "text/plain": [
       "55"
      ]
     },
     "execution_count": 63,
     "metadata": {},
     "output_type": "execute_result"
    }
   ],
   "source": [
    "ord('7')"
   ]
  },
  {
   "cell_type": "code",
   "execution_count": 68,
   "id": "3c8eadd3",
   "metadata": {},
   "outputs": [
    {
     "data": {
      "text/plain": [
       "113"
      ]
     },
     "execution_count": 68,
     "metadata": {},
     "output_type": "execute_result"
    }
   ],
   "source": [
    "ord('q')"
   ]
  },
  {
   "cell_type": "code",
   "execution_count": 66,
   "id": "36f09d31",
   "metadata": {},
   "outputs": [
    {
     "data": {
      "text/plain": [
       "81"
      ]
     },
     "execution_count": 66,
     "metadata": {},
     "output_type": "execute_result"
    }
   ],
   "source": [
    "ord('Q')"
   ]
  },
  {
   "cell_type": "code",
   "execution_count": 70,
   "id": "5b1d92b5",
   "metadata": {},
   "outputs": [
    {
     "name": "stdout",
     "output_type": "stream",
     "text": [
      "False\n",
      "False\n",
      "True\n"
     ]
    }
   ],
   "source": [
    "a = '65'\n",
    "b = '66'\n",
    "\n",
    "print(a > b)\n",
    "print(a == b)\n",
    "print(a < b)"
   ]
  },
  {
   "cell_type": "code",
   "execution_count": 71,
   "id": "17314244",
   "metadata": {},
   "outputs": [
    {
     "ename": "TypeError",
     "evalue": "'>' not supported between instances of 'int' and 'str'",
     "output_type": "error",
     "traceback": [
      "\u001b[1;31m---------------------------------------------------------------------------\u001b[0m",
      "\u001b[1;31mTypeError\u001b[0m                                 Traceback (most recent call last)",
      "\u001b[1;32m~\\AppData\\Local\\Temp\\ipykernel_1744\\3219029357.py\u001b[0m in \u001b[0;36m<module>\u001b[1;34m\u001b[0m\n\u001b[0;32m      2\u001b[0m \u001b[0mb\u001b[0m \u001b[1;33m=\u001b[0m \u001b[1;34m'66'\u001b[0m\u001b[1;33m\u001b[0m\u001b[1;33m\u001b[0m\u001b[0m\n\u001b[0;32m      3\u001b[0m \u001b[1;33m\u001b[0m\u001b[0m\n\u001b[1;32m----> 4\u001b[1;33m \u001b[0mprint\u001b[0m\u001b[1;33m(\u001b[0m\u001b[0ma\u001b[0m \u001b[1;33m>\u001b[0m \u001b[0mb\u001b[0m\u001b[1;33m)\u001b[0m\u001b[1;33m\u001b[0m\u001b[1;33m\u001b[0m\u001b[0m\n\u001b[0m\u001b[0;32m      5\u001b[0m \u001b[0mprint\u001b[0m\u001b[1;33m(\u001b[0m\u001b[0ma\u001b[0m \u001b[1;33m==\u001b[0m \u001b[0mb\u001b[0m\u001b[1;33m)\u001b[0m\u001b[1;33m\u001b[0m\u001b[1;33m\u001b[0m\u001b[0m\n\u001b[0;32m      6\u001b[0m \u001b[0mprint\u001b[0m\u001b[1;33m(\u001b[0m\u001b[0ma\u001b[0m \u001b[1;33m<\u001b[0m \u001b[0mb\u001b[0m\u001b[1;33m)\u001b[0m\u001b[1;33m\u001b[0m\u001b[1;33m\u001b[0m\u001b[0m\n",
      "\u001b[1;31mTypeError\u001b[0m: '>' not supported between instances of 'int' and 'str'"
     ]
    }
   ],
   "source": [
    "a = 65\n",
    "b = '66'\n",
    "\n",
    "print(a > b)\n",
    "print(a == b)\n",
    "print(a < b)"
   ]
  },
  {
   "cell_type": "markdown",
   "id": "58d48994",
   "metadata": {},
   "source": [
    "# Python Logical Operators\n",
    "Logical operators are used to combine conditional statements:"
   ]
  },
  {
   "cell_type": "code",
   "execution_count": 73,
   "id": "78358ecc",
   "metadata": {},
   "outputs": [
    {
     "name": "stdout",
     "output_type": "stream",
     "text": [
      "True\n",
      "False\n",
      "False\n",
      "False\n",
      "False\n"
     ]
    }
   ],
   "source": [
    "#      l    op  l    op  l    op  l\n",
    "print(True and True and True and True) # True\n",
    "print(True and True and False and True) #False\n",
    "print(False and True and True and False) #False\n",
    "print(False and False and False and True) #False\n",
    "print(False and False and False and False)# False"
   ]
  },
  {
   "cell_type": "code",
   "execution_count": null,
   "id": "9e1541cf",
   "metadata": {},
   "outputs": [],
   "source": [
    "#      l    op  l    op  l    op  l\n",
    "print(True and True and True and True) # True\n",
    "print(True and True and False and True) #False\n",
    "print(False and True and True and False) #False\n",
    "print(False and False and False and True) #False\n",
    "print(False and False and False and False)# False"
   ]
  },
  {
   "cell_type": "code",
   "execution_count": 76,
   "id": "ce4d1f7a",
   "metadata": {},
   "outputs": [
    {
     "name": "stdout",
     "output_type": "stream",
     "text": [
      "True\n",
      "True\n",
      "True\n",
      "True\n",
      "False\n"
     ]
    }
   ],
   "source": [
    "#      l    op  l    op  l    op  l\n",
    "print(True or True or True or True) # True\n",
    "print(True or True or False or True) #True\n",
    "print(False or True or True or False) #True\n",
    "print(False or False or False or True) #True\n",
    "print(False or False or False or False)# False\n"
   ]
  },
  {
   "cell_type": "code",
   "execution_count": 77,
   "id": "21ffa274",
   "metadata": {},
   "outputs": [
    {
     "data": {
      "text/plain": [
       "False"
      ]
     },
     "execution_count": 77,
     "metadata": {},
     "output_type": "execute_result"
    }
   ],
   "source": [
    "not True"
   ]
  },
  {
   "cell_type": "code",
   "execution_count": null,
   "id": "88b56995",
   "metadata": {},
   "outputs": [],
   "source": [
    "not "
   ]
  },
  {
   "cell_type": "code",
   "execution_count": 81,
   "id": "a5f4ee3f",
   "metadata": {},
   "outputs": [
    {
     "name": "stdout",
     "output_type": "stream",
     "text": [
      "enter your passwordMuhammad Qasim\n",
      "False\n",
      "True\n",
      "False\n",
      "True\n",
      "Muhammad Qasim\n"
     ]
    }
   ],
   "source": [
    "password = input(\"enter your password\")\n",
    "\n",
    "print(password=='abc') # False\n",
    "print(not password=='abc') # True\n",
    "print(not True)# False\n",
    "print(not False)# True\n",
    "print(password)# text"
   ]
  },
  {
   "cell_type": "markdown",
   "id": "ba3b0069",
   "metadata": {},
   "source": [
    "# Shallow copy"
   ]
  },
  {
   "cell_type": "code",
   "execution_count": 83,
   "id": "9909f0fc",
   "metadata": {},
   "outputs": [
    {
     "name": "stdout",
     "output_type": "stream",
     "text": [
      "2181584415152 2181584415152 2181584415152\n",
      "5\n",
      "5\n",
      "5\n"
     ]
    }
   ],
   "source": [
    "a = 5\n",
    "b = 5\n",
    "c = 5\n",
    "\n",
    "print(id(a), id(b), id(c))\n",
    "print(a)\n",
    "print(b)\n",
    "print(c)"
   ]
  },
  {
   "cell_type": "code",
   "execution_count": 86,
   "id": "c25bce04",
   "metadata": {},
   "outputs": [
    {
     "name": "stdout",
     "output_type": "stream",
     "text": [
      "2181584415152 2181584415152\n"
     ]
    }
   ],
   "source": [
    "a = 5\n",
    "b = 5\n",
    "\n",
    "print(id(a), id(b))"
   ]
  },
  {
   "cell_type": "code",
   "execution_count": 87,
   "id": "2aaecddb",
   "metadata": {},
   "outputs": [
    {
     "data": {
      "text/plain": [
       "True"
      ]
     },
     "execution_count": 87,
     "metadata": {},
     "output_type": "execute_result"
    }
   ],
   "source": [
    "a is b # check on memory level"
   ]
  },
  {
   "cell_type": "code",
   "execution_count": 85,
   "id": "7e14ea0d",
   "metadata": {},
   "outputs": [
    {
     "name": "stdout",
     "output_type": "stream",
     "text": [
      "2181584415152\n"
     ]
    }
   ],
   "source": [
    "b = 5\n",
    "print(id(b))"
   ]
  },
  {
   "cell_type": "markdown",
   "id": "47647fe7",
   "metadata": {},
   "source": [
    "# Deep copy"
   ]
  },
  {
   "cell_type": "code",
   "execution_count": 92,
   "id": "aa7bc2d4",
   "metadata": {},
   "outputs": [
    {
     "name": "stdout",
     "output_type": "stream",
     "text": [
      "['qasim'] ['qasim']\n",
      "2181703122432 2181702799808\n",
      "True\n",
      "False\n"
     ]
    }
   ],
   "source": [
    "saylani = [\"qasim\"]\n",
    "student = saylani.copy() # deep copy\n",
    "\n",
    "print(saylani, student)\n",
    "print(id(saylani), id(student))\n",
    "print(saylani == student)\n",
    "print(saylani is student)"
   ]
  },
  {
   "cell_type": "code",
   "execution_count": 93,
   "id": "10b33ad3",
   "metadata": {},
   "outputs": [
    {
     "name": "stdout",
     "output_type": "stream",
     "text": [
      "['qasim'] ['qasim']\n",
      "2181703926400 2181703904896\n",
      "True\n",
      "True\n"
     ]
    }
   ],
   "source": [
    "saylani = [\"qasim\"]\n",
    "student = saylani.copy() # deep copy\n",
    "\n",
    "print(saylani, student)\n",
    "print(id(saylani), id(student))\n",
    "print(saylani == student)\n",
    "print(saylani is not student)"
   ]
  },
  {
   "cell_type": "markdown",
   "id": "360f9c1e",
   "metadata": {},
   "source": [
    "# Python Membership Operators\n",
    "Membership operators are used to test if a sequence is presented in an object:\n",
    "\n"
   ]
  },
  {
   "cell_type": "code",
   "execution_count": 97,
   "id": "6665753f",
   "metadata": {},
   "outputs": [
    {
     "name": "stdout",
     "output_type": "stream",
     "text": [
      "True\n",
      "False\n",
      "False\n"
     ]
    }
   ],
   "source": [
    "message = \"pakistan zinda bad we love our country!\"\n",
    "\n",
    "print('zinda' in message)\n",
    "print('Zinda' in message)\n",
    "print(\"Qasim\" in message)"
   ]
  },
  {
   "cell_type": "code",
   "execution_count": 99,
   "id": "1e06125d",
   "metadata": {},
   "outputs": [
    {
     "name": "stdout",
     "output_type": "stream",
     "text": [
      "True\n",
      "False\n"
     ]
    }
   ],
   "source": [
    "names = ['Qasim','Hamza','Junaid',\"Yasir\"]\n",
    "\n",
    "print('Hamza' in names)\n",
    "print(\"Asif\" in names)"
   ]
  },
  {
   "cell_type": "code",
   "execution_count": 100,
   "id": "d5f1eacc",
   "metadata": {},
   "outputs": [
    {
     "data": {
      "text/plain": [
       "False"
      ]
     },
     "execution_count": 100,
     "metadata": {},
     "output_type": "execute_result"
    }
   ],
   "source": [
    "names = ['Qasim','Hamza','Junaid',\"Yasir\"]\n",
    "'Qasim' not in names"
   ]
  },
  {
   "cell_type": "code",
   "execution_count": null,
   "id": "e3c041b2",
   "metadata": {},
   "outputs": [],
   "source": []
  },
  {
   "cell_type": "code",
   "execution_count": null,
   "id": "3b41999a",
   "metadata": {},
   "outputs": [],
   "source": [
    "x = 01000001\n",
    "y = 01000001\n",
    "x = 01000001\n",
    "\n",
    "a = 01000001 # new code"
   ]
  },
  {
   "cell_type": "raw",
   "id": "06c44018",
   "metadata": {},
   "source": [
    "127000/5000"
   ]
  },
  {
   "cell_type": "raw",
   "id": "f2d8ad14",
   "metadata": {},
   "source": [
    "for n in range(1,27):\n",
    "    end = n*5000\n",
    "    start = end - 5000\n",
    "    print(n,start,end)\n",
    "    df3 = df3.iloc[start:end,:]"
   ]
  },
  {
   "cell_type": "code",
   "execution_count": null,
   "id": "cebdf8ee",
   "metadata": {},
   "outputs": [],
   "source": []
  }
 ],
 "metadata": {
  "kernelspec": {
   "display_name": "Python 3 (ipykernel)",
   "language": "python",
   "name": "python3"
  },
  "language_info": {
   "codemirror_mode": {
    "name": "ipython",
    "version": 3
   },
   "file_extension": ".py",
   "mimetype": "text/x-python",
   "name": "python",
   "nbconvert_exporter": "python",
   "pygments_lexer": "ipython3",
   "version": "3.10.9"
  }
 },
 "nbformat": 4,
 "nbformat_minor": 5
}
